{
  "nbformat": 4,
  "nbformat_minor": 0,
  "metadata": {
    "colab": {
      "name": "LabPlace.ipynb",
      "provenance": [],
      "collapsed_sections": [],
      "authorship_tag": "ABX9TyMA6ALEv+0a3E5inAL1H9FV",
      "include_colab_link": true
    },
    "kernelspec": {
      "name": "python3",
      "display_name": "Python 3"
    },
    "language_info": {
      "name": "python"
    }
  },
  "cells": [
    {
      "cell_type": "markdown",
      "metadata": {
        "id": "view-in-github",
        "colab_type": "text"
      },
      "source": [
        "<a href=\"https://colab.research.google.com/github/eser1303/Vizualization_3/blob/main/LabPlace.ipynb\" target=\"_parent\"><img src=\"https://colab.research.google.com/assets/colab-badge.svg\" alt=\"Open In Colab\"/></a>"
      ]
    },
    {
      "cell_type": "markdown",
      "metadata": {
        "id": "Gy8f9xNyEtAY"
      },
      "source": [
        "##Домашнее задание №3 по курсу \"Методы визуализации данных\"\n",
        "\n",
        "###Выполнил Ефремов Сергей Владимирович, группа М05-013г\n",
        "\n",
        "###Label placement\n",
        "\n",
        "Задача выполнена без ограничений на количество вариантов, при использовании стороннего SAT-решателя.\n",
        "\n",
        "Используется бинарная кодировка каждой потенциальной позиции для каждого бокса."
      ]
    },
    {
      "cell_type": "markdown",
      "metadata": {
        "id": "iQv2jhwBEUws"
      },
      "source": [
        "Давайте договоримся сделать в едином формате, на каждый label по строке следующего вида:\n",
        "\n",
        "\n",
        "\n",
        "```\n",
        "позиция <таб> размер <таб> варианты_расположений_через_пробел\n",
        "```\n",
        "\n",
        "Пример для 2 label'ов:\n",
        "\n",
        "\n",
        "\n",
        "```\n",
        "25,20  10,10  0,0 10,0 0,10 10,10\n",
        "\n",
        "25,40  10,30  0,0 10,0 0,15 10,15 0,30 10,30\n",
        "```\n",
        "Выражаю огромную благодарность Дьяченко Игорю за предоставленные примеры и набросок парсера.\n",
        "\n",
        "Используемый SAT парсер: \n",
        "\n",
        "https://pysathq.github.io/"
      ]
    },
    {
      "cell_type": "code",
      "metadata": {
        "colab": {
          "base_uri": "https://localhost:8080/"
        },
        "id": "Pew-Ncbs-SUn",
        "outputId": "4b198dff-e0ae-4caf-9e2b-745d8a3b18ff"
      },
      "source": [
        "!pip install python-sat"
      ],
      "execution_count": 178,
      "outputs": [
        {
          "output_type": "stream",
          "text": [
            "Requirement already satisfied: python-sat in /usr/local/lib/python3.7/dist-packages (0.1.7.dev2)\n",
            "Requirement already satisfied: six in /usr/local/lib/python3.7/dist-packages (from python-sat) (1.15.0)\n"
          ],
          "name": "stdout"
        }
      ]
    },
    {
      "cell_type": "code",
      "metadata": {
        "id": "Xtd7FNqtRuab"
      },
      "source": [
        "import numpy as np\n",
        "import matplotlib.pyplot as plt\n",
        "import matplotlib.patches as patches\n",
        "\n",
        "MAX_LIMIT = 500\n",
        "raw_data = '''\n",
        "25,20\t10,10\t0,0 10,0 0,10 10,10\n",
        "25,40\t10,30\t0,0 10,0 0,15 10,15 0,30 10,30\n",
        "25,60\t10,10\t0,0 10,0 0,10 10,10\n",
        "40,25\t20,10\t0,0 10,0 20,0 0,10 10,10 20,10\n",
        "40,40\t20,20\t0,0 10,0 20,0 0,10 10,10 20,10 0,20 10,20 20,20\n",
        "40,55\t20,10\t0,0 10,0 20,0 0,10 10,10 20,10\n",
        "55,35\t10,20\t0,0 10,0 0,10 10,10 0,20 10,20\n",
        "55,40\t10,20\t0,0 10,0 0,10 10,10 0,20 10,20\n",
        "'''    \n",
        "def parse(s):\n",
        "   arr = [int(a) for a in s.split(',')]\n",
        "   return np.array(arr)\n",
        "\n",
        "class Box:\n",
        "    def __init__(self, line):\n",
        "        arr = line.split('\\t')\n",
        "        self.pos = parse(arr[0])\n",
        "        self.size = parse(arr[1])\n",
        "        self.offsets = [parse(pos) for pos in arr[2].split(' ')]\n",
        "        assert len(self.offsets) > 0\n",
        "    \n",
        "    def __str__(self):\n",
        "        return 'Box(pos={}, size={}, offsets={})'.format(self.pos, self.size, self.offsets)\n",
        "    \n",
        "    def __repr__(self):\n",
        "        return str(self)\n",
        "\n",
        "\n",
        "boxes = [Box(line) for line in raw_data.strip().split('\\n')]"
      ],
      "execution_count": 179,
      "outputs": []
    },
    {
      "cell_type": "code",
      "metadata": {
        "id": "W1ZqjlQD3dL2"
      },
      "source": [
        "def check_sec(boxes, i, j, it1, it2):\n",
        "   pos1 = boxes[i].pos - boxes[i].offsets[it1]\n",
        "   pos2 = boxes[j].pos - boxes[j].offsets[it2]\n",
        "   sz1 = boxes[i].size\n",
        "   sz2 = boxes[j].size\n",
        "   if ((pos1[0] + sz1[0]) < pos2[0]) or ((pos2[0] + sz2[0]) < pos1[0]) or ((pos1[1] + sz1[1]) < pos2[1]) or ((pos2[1] + sz2[1]) < pos1[1]):\n",
        "     return 0\n",
        "   else:\n",
        "     return 1"
      ],
      "execution_count": 180,
      "outputs": []
    },
    {
      "cell_type": "code",
      "metadata": {
        "id": "UOiwDJn8vWZu"
      },
      "source": [
        "s = CNF()\n",
        "toq = {}\n",
        "fromq = {}\n",
        "key = 1\n",
        "for i in range(len(boxes)):\n",
        "  L = len(boxes[i].offsets)\n",
        "  k = range (key, L + key, 1)\n",
        "  s.append(k)\n",
        "  for j in k:\n",
        "    toq[j] = [i, j - key]\n",
        "    fromq[(i, j - key)] = j\n",
        "  key += L\n",
        "for i in range(len(boxes)):\n",
        "  for j in range(i + 1, len(boxes)):\n",
        "    k1 = range(len(boxes[i].offsets))\n",
        "    k2 = range(len(boxes[j].offsets))\n",
        "    for it1 in k1:\n",
        "      for it2 in k2:\n",
        "        flag = check_sec(boxes, i, j, it1, it2)\n",
        "        if flag == 1:\n",
        "          q1 = fromq[(i, it1)]\n",
        "          q2 = fromq[(j, it2)]\n",
        "          s.append([-q1, -q2])"
      ],
      "execution_count": 181,
      "outputs": []
    },
    {
      "cell_type": "code",
      "metadata": {
        "id": "8cGh9jQm1mox"
      },
      "source": [
        "error_flag = 0\n",
        "with Minisat22(bootstrap_with = s) as m:\n",
        "   m.solve()\n",
        "   pre_res = m.get_model()\n",
        "   if pre_res:\n",
        "     res = np.array(m.get_model())\n",
        "   else:\n",
        "     error_flag = 1\n",
        "if error_flag == 0:\n",
        "  res_q = {}\n",
        "  for i in res:\n",
        "    if i > 0:\n",
        "      q = toq[i]\n",
        "      res_q[q[0]] = boxes[q[0]].offsets[q[1]]"
      ],
      "execution_count": 182,
      "outputs": []
    },
    {
      "cell_type": "code",
      "metadata": {
        "colab": {
          "base_uri": "https://localhost:8080/",
          "height": 537
        },
        "id": "ngyUH4jz7yGy",
        "outputId": "c1f812da-9638-4683-b0b8-109c02e18bae"
      },
      "source": [
        "if error_flag == 0:\n",
        "  fig, ax = plt.subplots(figsize=(9,9))\n",
        "  for i in range(len(boxes)):\n",
        "    if max(boxes[i].pos - res_q[i]) <= 500:\n",
        "      ax.scatter(boxes[i].pos[0], boxes[i].pos[1], c = 'deeppink')\n",
        "      ax.add_patch(\n",
        "           patches.Rectangle(\n",
        "              boxes[i].pos - res_q[i],\n",
        "              boxes[i].size[0],\n",
        "              boxes[i].size[1],\n",
        "              edgecolor = 'blue',\n",
        "              #facecolor = 'blue',\n",
        "              fill=True\n",
        "           ) )\n",
        "    else:\n",
        "      error_flag = 1\n",
        "if error_flag == 0:\n",
        "  plt.show()\n",
        "else:\n",
        "  print('Imposible to draw')"
      ],
      "execution_count": 184,
      "outputs": [
        {
          "output_type": "display_data",
          "data": {
            "image/png": "[encoded data removed]",
            "text/plain": [
              "<Figure size 648x648 with 1 Axes>"
            ]
          },
          "metadata": {
            "tags": [],
            "needs_background": "light"
          }
        }
      ]
    },
    {
      "cell_type": "code",
      "metadata": {
        "id": "AesyGugj-A14"
      },
      "source": [
        ""
      ],
      "execution_count": null,
      "outputs": []
    }
  ]
}